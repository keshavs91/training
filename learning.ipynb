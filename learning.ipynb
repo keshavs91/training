{
 "cells": [
  {
   "cell_type": "code",
   "execution_count": 180,
   "metadata": {
    "id": "fbP2NSNoQ26u"
   },
   "outputs": [],
   "source": [
    "import pandas as pd\n",
    "import numpy as np\n",
    "import matplotlib.pyplot as plt"
   ]
  },
  {
   "cell_type": "code",
   "execution_count": 181,
   "metadata": {},
   "outputs": [],
   "source": [
    "# DataFrame"
   ]
  },
  {
   "cell_type": "code",
   "execution_count": 182,
   "metadata": {
    "colab": {
     "base_uri": "https://localhost:8080/"
    },
    "id": "zkVpXK9Lpyum",
    "outputId": "f2791d0e-21c6-43ec-8d31-32b70dfedf50"
   },
   "outputs": [
    {
     "data": {
      "text/html": [
       "<div>\n",
       "<style scoped>\n",
       "    .dataframe tbody tr th:only-of-type {\n",
       "        vertical-align: middle;\n",
       "    }\n",
       "\n",
       "    .dataframe tbody tr th {\n",
       "        vertical-align: top;\n",
       "    }\n",
       "\n",
       "    .dataframe thead th {\n",
       "        text-align: right;\n",
       "    }\n",
       "</style>\n",
       "<table border=\"1\" class=\"dataframe\">\n",
       "  <thead>\n",
       "    <tr style=\"text-align: right;\">\n",
       "      <th></th>\n",
       "      <th>time</th>\n",
       "      <th>ds</th>\n",
       "      <th>vb</th>\n",
       "      <th>TD</th>\n",
       "      <th>device_id</th>\n",
       "      <th>RSSI</th>\n",
       "      <th>RR</th>\n",
       "      <th>DeviceMAC</th>\n",
       "      <th>RouterMAC</th>\n",
       "      <th>timestamp</th>\n",
       "      <th>pw</th>\n",
       "      <th>FV</th>\n",
       "      <th>device_type</th>\n",
       "      <th>region</th>\n",
       "    </tr>\n",
       "  </thead>\n",
       "  <tbody>\n",
       "    <tr>\n",
       "      <th>0</th>\n",
       "      <td>2023-10-13 12:52:58</td>\n",
       "      <td>908.09</td>\n",
       "      <td>4.19</td>\n",
       "      <td>99.0</td>\n",
       "      <td>9594c4</td>\n",
       "      <td>-32.0</td>\n",
       "      <td>1.0</td>\n",
       "      <td>10:97:BD:95:94:C4</td>\n",
       "      <td>30:DE:4B:04:DA:80</td>\n",
       "      <td>1.697182e+12</td>\n",
       "      <td>5076.52</td>\n",
       "      <td>3.0</td>\n",
       "      <td>waltr_A</td>\n",
       "      <td>us-east-1</td>\n",
       "    </tr>\n",
       "    <tr>\n",
       "      <th>1</th>\n",
       "      <td>2023-10-13 12:55:18</td>\n",
       "      <td>880.82</td>\n",
       "      <td>4.19</td>\n",
       "      <td>99.0</td>\n",
       "      <td>9594c4</td>\n",
       "      <td>-27.0</td>\n",
       "      <td>5.0</td>\n",
       "      <td>10:97:BD:95:94:C4</td>\n",
       "      <td>30:DE:4B:04:DA:80</td>\n",
       "      <td>1.697182e+12</td>\n",
       "      <td>4920.59</td>\n",
       "      <td>3.0</td>\n",
       "      <td>waltr_A</td>\n",
       "      <td>us-east-1</td>\n",
       "    </tr>\n",
       "    <tr>\n",
       "      <th>2</th>\n",
       "      <td>2023-10-13 12:57:39</td>\n",
       "      <td>849.51</td>\n",
       "      <td>4.19</td>\n",
       "      <td>99.0</td>\n",
       "      <td>9594c4</td>\n",
       "      <td>-26.0</td>\n",
       "      <td>5.0</td>\n",
       "      <td>10:97:BD:95:94:C4</td>\n",
       "      <td>30:DE:4B:04:DA:80</td>\n",
       "      <td>1.697182e+12</td>\n",
       "      <td>4741.55</td>\n",
       "      <td>3.0</td>\n",
       "      <td>waltr_A</td>\n",
       "      <td>us-east-1</td>\n",
       "    </tr>\n",
       "    <tr>\n",
       "      <th>3</th>\n",
       "      <td>2023-10-13 13:00:00</td>\n",
       "      <td>817.19</td>\n",
       "      <td>4.19</td>\n",
       "      <td>99.0</td>\n",
       "      <td>9594c4</td>\n",
       "      <td>-25.0</td>\n",
       "      <td>5.0</td>\n",
       "      <td>10:97:BD:95:94:C4</td>\n",
       "      <td>30:DE:4B:04:DA:80</td>\n",
       "      <td>1.697182e+12</td>\n",
       "      <td>4556.74</td>\n",
       "      <td>3.0</td>\n",
       "      <td>waltr_A</td>\n",
       "      <td>us-east-1</td>\n",
       "    </tr>\n",
       "    <tr>\n",
       "      <th>4</th>\n",
       "      <td>2023-10-13 13:02:20</td>\n",
       "      <td>790.93</td>\n",
       "      <td>4.19</td>\n",
       "      <td>99.0</td>\n",
       "      <td>9594c4</td>\n",
       "      <td>-33.0</td>\n",
       "      <td>5.0</td>\n",
       "      <td>10:97:BD:95:94:C4</td>\n",
       "      <td>30:DE:4B:04:DA:80</td>\n",
       "      <td>1.697182e+12</td>\n",
       "      <td>4406.58</td>\n",
       "      <td>3.0</td>\n",
       "      <td>waltr_A</td>\n",
       "      <td>us-east-1</td>\n",
       "    </tr>\n",
       "  </tbody>\n",
       "</table>\n",
       "</div>"
      ],
      "text/plain": [
       "                 time      ds    vb    TD device_id  RSSI   RR  \\\n",
       "0 2023-10-13 12:52:58  908.09  4.19  99.0    9594c4 -32.0  1.0   \n",
       "1 2023-10-13 12:55:18  880.82  4.19  99.0    9594c4 -27.0  5.0   \n",
       "2 2023-10-13 12:57:39  849.51  4.19  99.0    9594c4 -26.0  5.0   \n",
       "3 2023-10-13 13:00:00  817.19  4.19  99.0    9594c4 -25.0  5.0   \n",
       "4 2023-10-13 13:02:20  790.93  4.19  99.0    9594c4 -33.0  5.0   \n",
       "\n",
       "           DeviceMAC          RouterMAC     timestamp       pw   FV  \\\n",
       "0  10:97:BD:95:94:C4  30:DE:4B:04:DA:80  1.697182e+12  5076.52  3.0   \n",
       "1  10:97:BD:95:94:C4  30:DE:4B:04:DA:80  1.697182e+12  4920.59  3.0   \n",
       "2  10:97:BD:95:94:C4  30:DE:4B:04:DA:80  1.697182e+12  4741.55  3.0   \n",
       "3  10:97:BD:95:94:C4  30:DE:4B:04:DA:80  1.697182e+12  4556.74  3.0   \n",
       "4  10:97:BD:95:94:C4  30:DE:4B:04:DA:80  1.697182e+12  4406.58  3.0   \n",
       "\n",
       "  device_type     region  \n",
       "0     waltr_A  us-east-1  \n",
       "1     waltr_A  us-east-1  \n",
       "2     waltr_A  us-east-1  \n",
       "3     waltr_A  us-east-1  \n",
       "4     waltr_A  us-east-1  "
      ]
     },
     "execution_count": 182,
     "metadata": {},
     "output_type": "execute_result"
    }
   ],
   "source": [
    "df = pd.read_csv(\"raw_data/waltr_a_1.csv\", parse_dates=[\"time\"])\n",
    "df.head()"
   ]
  },
  {
   "cell_type": "code",
   "execution_count": 183,
   "metadata": {
    "colab": {
     "base_uri": "https://localhost:8080/",
     "height": 513
    },
    "id": "dLRrj1qhT8C7",
    "outputId": "bdf32c10-ceb7-4bb0-8278-a58392ba6c46"
   },
   "outputs": [
    {
     "name": "stdout",
     "output_type": "stream",
     "text": [
      "<class 'pandas.core.frame.DataFrame'>\n",
      "RangeIndex: 10699 entries, 0 to 10698\n",
      "Data columns (total 14 columns):\n",
      " #   Column       Non-Null Count  Dtype         \n",
      "---  ------       --------------  -----         \n",
      " 0   time         10699 non-null  datetime64[ns]\n",
      " 1   ds           10699 non-null  float64       \n",
      " 2   vb           10699 non-null  float64       \n",
      " 3   TD           10699 non-null  float64       \n",
      " 4   device_id    10699 non-null  object        \n",
      " 5   RSSI         10699 non-null  float64       \n",
      " 6   RR           10699 non-null  float64       \n",
      " 7   DeviceMAC    10699 non-null  object        \n",
      " 8   RouterMAC    10699 non-null  object        \n",
      " 9   timestamp    10699 non-null  float64       \n",
      " 10  pw           10699 non-null  float64       \n",
      " 11  FV           10699 non-null  float64       \n",
      " 12  device_type  10699 non-null  object        \n",
      " 13  region       10699 non-null  object        \n",
      "dtypes: datetime64[ns](1), float64(8), object(5)\n",
      "memory usage: 1.1+ MB\n"
     ]
    }
   ],
   "source": [
    "df.info()"
   ]
  },
  {
   "cell_type": "code",
   "execution_count": 184,
   "metadata": {
    "colab": {
     "base_uri": "https://localhost:8080/",
     "height": 300
    },
    "id": "2NmE_t_dthdC",
    "outputId": "edc796cc-bd57-48da-ce97-4be4cc87871c"
   },
   "outputs": [
    {
     "data": {
      "text/html": [
       "<div>\n",
       "<style scoped>\n",
       "    .dataframe tbody tr th:only-of-type {\n",
       "        vertical-align: middle;\n",
       "    }\n",
       "\n",
       "    .dataframe tbody tr th {\n",
       "        vertical-align: top;\n",
       "    }\n",
       "\n",
       "    .dataframe thead th {\n",
       "        text-align: right;\n",
       "    }\n",
       "</style>\n",
       "<table border=\"1\" class=\"dataframe\">\n",
       "  <thead>\n",
       "    <tr style=\"text-align: right;\">\n",
       "      <th></th>\n",
       "      <th>time</th>\n",
       "      <th>ds</th>\n",
       "      <th>vb</th>\n",
       "      <th>TD</th>\n",
       "      <th>RSSI</th>\n",
       "      <th>RR</th>\n",
       "      <th>timestamp</th>\n",
       "      <th>pw</th>\n",
       "      <th>FV</th>\n",
       "    </tr>\n",
       "  </thead>\n",
       "  <tbody>\n",
       "    <tr>\n",
       "      <th>count</th>\n",
       "      <td>10699</td>\n",
       "      <td>10699.000000</td>\n",
       "      <td>1.069900e+04</td>\n",
       "      <td>10699.0</td>\n",
       "      <td>10699.000000</td>\n",
       "      <td>10699.000000</td>\n",
       "      <td>1.069900e+04</td>\n",
       "      <td>10699.000000</td>\n",
       "      <td>10699.0</td>\n",
       "    </tr>\n",
       "    <tr>\n",
       "      <th>mean</th>\n",
       "      <td>2023-10-22 06:28:10.931862784</td>\n",
       "      <td>797.554614</td>\n",
       "      <td>4.190000e+00</td>\n",
       "      <td>99.0</td>\n",
       "      <td>-26.856622</td>\n",
       "      <td>4.999626</td>\n",
       "      <td>1.697936e+12</td>\n",
       "      <td>4444.464195</td>\n",
       "      <td>3.0</td>\n",
       "    </tr>\n",
       "    <tr>\n",
       "      <th>min</th>\n",
       "      <td>2023-10-13 12:52:58</td>\n",
       "      <td>653.570000</td>\n",
       "      <td>4.190000e+00</td>\n",
       "      <td>99.0</td>\n",
       "      <td>-68.000000</td>\n",
       "      <td>1.000000</td>\n",
       "      <td>1.697182e+12</td>\n",
       "      <td>3621.140000</td>\n",
       "      <td>3.0</td>\n",
       "    </tr>\n",
       "    <tr>\n",
       "      <th>25%</th>\n",
       "      <td>2023-10-17 21:46:42.500000</td>\n",
       "      <td>731.340000</td>\n",
       "      <td>4.190000e+00</td>\n",
       "      <td>99.0</td>\n",
       "      <td>-29.000000</td>\n",
       "      <td>5.000000</td>\n",
       "      <td>1.697559e+12</td>\n",
       "      <td>4065.840000</td>\n",
       "      <td>3.0</td>\n",
       "    </tr>\n",
       "    <tr>\n",
       "      <th>50%</th>\n",
       "      <td>2023-10-22 06:34:11</td>\n",
       "      <td>795.980000</td>\n",
       "      <td>4.190000e+00</td>\n",
       "      <td>99.0</td>\n",
       "      <td>-27.000000</td>\n",
       "      <td>5.000000</td>\n",
       "      <td>1.697937e+12</td>\n",
       "      <td>4435.460000</td>\n",
       "      <td>3.0</td>\n",
       "    </tr>\n",
       "    <tr>\n",
       "      <th>75%</th>\n",
       "      <td>2023-10-26 15:05:28</td>\n",
       "      <td>857.590000</td>\n",
       "      <td>4.190000e+00</td>\n",
       "      <td>99.0</td>\n",
       "      <td>-24.000000</td>\n",
       "      <td>5.000000</td>\n",
       "      <td>1.698313e+12</td>\n",
       "      <td>4787.760000</td>\n",
       "      <td>3.0</td>\n",
       "    </tr>\n",
       "    <tr>\n",
       "      <th>max</th>\n",
       "      <td>2023-10-30 23:58:58</td>\n",
       "      <td>1165.640000</td>\n",
       "      <td>4.190000e+00</td>\n",
       "      <td>99.0</td>\n",
       "      <td>-19.000000</td>\n",
       "      <td>5.000000</td>\n",
       "      <td>1.698691e+12</td>\n",
       "      <td>6549.230000</td>\n",
       "      <td>3.0</td>\n",
       "    </tr>\n",
       "    <tr>\n",
       "      <th>std</th>\n",
       "      <td>NaN</td>\n",
       "      <td>80.294119</td>\n",
       "      <td>8.882199e-16</td>\n",
       "      <td>0.0</td>\n",
       "      <td>3.671652</td>\n",
       "      <td>0.038671</td>\n",
       "      <td>4.355413e+08</td>\n",
       "      <td>459.134710</td>\n",
       "      <td>0.0</td>\n",
       "    </tr>\n",
       "  </tbody>\n",
       "</table>\n",
       "</div>"
      ],
      "text/plain": [
       "                                time            ds            vb       TD  \\\n",
       "count                          10699  10699.000000  1.069900e+04  10699.0   \n",
       "mean   2023-10-22 06:28:10.931862784    797.554614  4.190000e+00     99.0   \n",
       "min              2023-10-13 12:52:58    653.570000  4.190000e+00     99.0   \n",
       "25%       2023-10-17 21:46:42.500000    731.340000  4.190000e+00     99.0   \n",
       "50%              2023-10-22 06:34:11    795.980000  4.190000e+00     99.0   \n",
       "75%              2023-10-26 15:05:28    857.590000  4.190000e+00     99.0   \n",
       "max              2023-10-30 23:58:58   1165.640000  4.190000e+00     99.0   \n",
       "std                              NaN     80.294119  8.882199e-16      0.0   \n",
       "\n",
       "               RSSI            RR     timestamp            pw       FV  \n",
       "count  10699.000000  10699.000000  1.069900e+04  10699.000000  10699.0  \n",
       "mean     -26.856622      4.999626  1.697936e+12   4444.464195      3.0  \n",
       "min      -68.000000      1.000000  1.697182e+12   3621.140000      3.0  \n",
       "25%      -29.000000      5.000000  1.697559e+12   4065.840000      3.0  \n",
       "50%      -27.000000      5.000000  1.697937e+12   4435.460000      3.0  \n",
       "75%      -24.000000      5.000000  1.698313e+12   4787.760000      3.0  \n",
       "max      -19.000000      5.000000  1.698691e+12   6549.230000      3.0  \n",
       "std        3.671652      0.038671  4.355413e+08    459.134710      0.0  "
      ]
     },
     "execution_count": 184,
     "metadata": {},
     "output_type": "execute_result"
    }
   ],
   "source": [
    "df.describe()"
   ]
  },
  {
   "cell_type": "code",
   "execution_count": 185,
   "metadata": {},
   "outputs": [
    {
     "data": {
      "text/plain": [
       "array([1., 5.])"
      ]
     },
     "execution_count": 185,
     "metadata": {},
     "output_type": "execute_result"
    }
   ],
   "source": [
    "df[\"RR\"].unique()"
   ]
  },
  {
   "cell_type": "code",
   "execution_count": 186,
   "metadata": {},
   "outputs": [],
   "source": [
    "# df = df[[\"time\", \"ds\"]]"
   ]
  },
  {
   "cell_type": "code",
   "execution_count": 187,
   "metadata": {
    "colab": {
     "base_uri": "https://localhost:8080/",
     "height": 528
    },
    "id": "YGLOsZmMzbFA",
    "outputId": "a3b40e38-6115-46ec-bb53-e609a01e8997"
   },
   "outputs": [
    {
     "data": {
      "text/html": [
       "<div>\n",
       "<style scoped>\n",
       "    .dataframe tbody tr th:only-of-type {\n",
       "        vertical-align: middle;\n",
       "    }\n",
       "\n",
       "    .dataframe tbody tr th {\n",
       "        vertical-align: top;\n",
       "    }\n",
       "\n",
       "    .dataframe thead th {\n",
       "        text-align: right;\n",
       "    }\n",
       "</style>\n",
       "<table border=\"1\" class=\"dataframe\">\n",
       "  <thead>\n",
       "    <tr style=\"text-align: right;\">\n",
       "      <th></th>\n",
       "      <th>time</th>\n",
       "      <th>ds</th>\n",
       "      <th>vb</th>\n",
       "      <th>TD</th>\n",
       "      <th>device_id</th>\n",
       "      <th>RSSI</th>\n",
       "      <th>RR</th>\n",
       "      <th>DeviceMAC</th>\n",
       "      <th>RouterMAC</th>\n",
       "      <th>timestamp</th>\n",
       "      <th>pw</th>\n",
       "      <th>FV</th>\n",
       "      <th>device_type</th>\n",
       "      <th>region</th>\n",
       "      <th>change</th>\n",
       "    </tr>\n",
       "  </thead>\n",
       "  <tbody>\n",
       "    <tr>\n",
       "      <th>0</th>\n",
       "      <td>2023-10-13 12:52:58</td>\n",
       "      <td>908.09</td>\n",
       "      <td>4.19</td>\n",
       "      <td>99.0</td>\n",
       "      <td>9594c4</td>\n",
       "      <td>-32.0</td>\n",
       "      <td>1.0</td>\n",
       "      <td>10:97:BD:95:94:C4</td>\n",
       "      <td>30:DE:4B:04:DA:80</td>\n",
       "      <td>1.697182e+12</td>\n",
       "      <td>5076.52</td>\n",
       "      <td>3.0</td>\n",
       "      <td>waltr_A</td>\n",
       "      <td>us-east-1</td>\n",
       "      <td>decrease</td>\n",
       "    </tr>\n",
       "    <tr>\n",
       "      <th>1</th>\n",
       "      <td>2023-10-13 12:55:18</td>\n",
       "      <td>880.82</td>\n",
       "      <td>4.19</td>\n",
       "      <td>99.0</td>\n",
       "      <td>9594c4</td>\n",
       "      <td>-27.0</td>\n",
       "      <td>5.0</td>\n",
       "      <td>10:97:BD:95:94:C4</td>\n",
       "      <td>30:DE:4B:04:DA:80</td>\n",
       "      <td>1.697182e+12</td>\n",
       "      <td>4920.59</td>\n",
       "      <td>3.0</td>\n",
       "      <td>waltr_A</td>\n",
       "      <td>us-east-1</td>\n",
       "      <td>decrease</td>\n",
       "    </tr>\n",
       "    <tr>\n",
       "      <th>2</th>\n",
       "      <td>2023-10-13 12:57:39</td>\n",
       "      <td>849.51</td>\n",
       "      <td>4.19</td>\n",
       "      <td>99.0</td>\n",
       "      <td>9594c4</td>\n",
       "      <td>-26.0</td>\n",
       "      <td>5.0</td>\n",
       "      <td>10:97:BD:95:94:C4</td>\n",
       "      <td>30:DE:4B:04:DA:80</td>\n",
       "      <td>1.697182e+12</td>\n",
       "      <td>4741.55</td>\n",
       "      <td>3.0</td>\n",
       "      <td>waltr_A</td>\n",
       "      <td>us-east-1</td>\n",
       "      <td>decrease</td>\n",
       "    </tr>\n",
       "    <tr>\n",
       "      <th>3</th>\n",
       "      <td>2023-10-13 13:00:00</td>\n",
       "      <td>817.19</td>\n",
       "      <td>4.19</td>\n",
       "      <td>99.0</td>\n",
       "      <td>9594c4</td>\n",
       "      <td>-25.0</td>\n",
       "      <td>5.0</td>\n",
       "      <td>10:97:BD:95:94:C4</td>\n",
       "      <td>30:DE:4B:04:DA:80</td>\n",
       "      <td>1.697182e+12</td>\n",
       "      <td>4556.74</td>\n",
       "      <td>3.0</td>\n",
       "      <td>waltr_A</td>\n",
       "      <td>us-east-1</td>\n",
       "      <td>decrease</td>\n",
       "    </tr>\n",
       "    <tr>\n",
       "      <th>4</th>\n",
       "      <td>2023-10-13 13:02:20</td>\n",
       "      <td>790.93</td>\n",
       "      <td>4.19</td>\n",
       "      <td>99.0</td>\n",
       "      <td>9594c4</td>\n",
       "      <td>-33.0</td>\n",
       "      <td>5.0</td>\n",
       "      <td>10:97:BD:95:94:C4</td>\n",
       "      <td>30:DE:4B:04:DA:80</td>\n",
       "      <td>1.697182e+12</td>\n",
       "      <td>4406.58</td>\n",
       "      <td>3.0</td>\n",
       "      <td>waltr_A</td>\n",
       "      <td>us-east-1</td>\n",
       "      <td>decrease</td>\n",
       "    </tr>\n",
       "  </tbody>\n",
       "</table>\n",
       "</div>"
      ],
      "text/plain": [
       "                 time      ds    vb    TD device_id  RSSI   RR  \\\n",
       "0 2023-10-13 12:52:58  908.09  4.19  99.0    9594c4 -32.0  1.0   \n",
       "1 2023-10-13 12:55:18  880.82  4.19  99.0    9594c4 -27.0  5.0   \n",
       "2 2023-10-13 12:57:39  849.51  4.19  99.0    9594c4 -26.0  5.0   \n",
       "3 2023-10-13 13:00:00  817.19  4.19  99.0    9594c4 -25.0  5.0   \n",
       "4 2023-10-13 13:02:20  790.93  4.19  99.0    9594c4 -33.0  5.0   \n",
       "\n",
       "           DeviceMAC          RouterMAC     timestamp       pw   FV  \\\n",
       "0  10:97:BD:95:94:C4  30:DE:4B:04:DA:80  1.697182e+12  5076.52  3.0   \n",
       "1  10:97:BD:95:94:C4  30:DE:4B:04:DA:80  1.697182e+12  4920.59  3.0   \n",
       "2  10:97:BD:95:94:C4  30:DE:4B:04:DA:80  1.697182e+12  4741.55  3.0   \n",
       "3  10:97:BD:95:94:C4  30:DE:4B:04:DA:80  1.697182e+12  4556.74  3.0   \n",
       "4  10:97:BD:95:94:C4  30:DE:4B:04:DA:80  1.697182e+12  4406.58  3.0   \n",
       "\n",
       "  device_type     region    change  \n",
       "0     waltr_A  us-east-1  decrease  \n",
       "1     waltr_A  us-east-1  decrease  \n",
       "2     waltr_A  us-east-1  decrease  \n",
       "3     waltr_A  us-east-1  decrease  \n",
       "4     waltr_A  us-east-1  decrease  "
      ]
     },
     "execution_count": 187,
     "metadata": {},
     "output_type": "execute_result"
    }
   ],
   "source": [
    "df[\"change\"] = np.where(df[\"ds\"].diff() > 0, 'increase', 'decrease')\n",
    "df.head()"
   ]
  },
  {
   "cell_type": "code",
   "execution_count": 188,
   "metadata": {
    "colab": {
     "base_uri": "https://localhost:8080/"
    },
    "id": "DKV3EjikzbDP",
    "outputId": "5697dc64-2de1-45d0-b88f-5bd7d39a38b4"
   },
   "outputs": [
    {
     "data": {
      "text/html": [
       "<div>\n",
       "<style scoped>\n",
       "    .dataframe tbody tr th:only-of-type {\n",
       "        vertical-align: middle;\n",
       "    }\n",
       "\n",
       "    .dataframe tbody tr th {\n",
       "        vertical-align: top;\n",
       "    }\n",
       "\n",
       "    .dataframe thead th {\n",
       "        text-align: right;\n",
       "    }\n",
       "</style>\n",
       "<table border=\"1\" class=\"dataframe\">\n",
       "  <thead>\n",
       "    <tr style=\"text-align: right;\">\n",
       "      <th></th>\n",
       "      <th>time</th>\n",
       "      <th>ds</th>\n",
       "      <th>vb</th>\n",
       "      <th>TD</th>\n",
       "      <th>device_id</th>\n",
       "      <th>RSSI</th>\n",
       "      <th>RR</th>\n",
       "      <th>DeviceMAC</th>\n",
       "      <th>RouterMAC</th>\n",
       "      <th>timestamp</th>\n",
       "      <th>pw</th>\n",
       "      <th>FV</th>\n",
       "      <th>device_type</th>\n",
       "      <th>region</th>\n",
       "      <th>change</th>\n",
       "      <th>movements</th>\n",
       "    </tr>\n",
       "  </thead>\n",
       "  <tbody>\n",
       "    <tr>\n",
       "      <th>0</th>\n",
       "      <td>2023-10-13 12:52:58</td>\n",
       "      <td>908.09</td>\n",
       "      <td>4.19</td>\n",
       "      <td>99.0</td>\n",
       "      <td>9594c4</td>\n",
       "      <td>-32.0</td>\n",
       "      <td>1.0</td>\n",
       "      <td>10:97:BD:95:94:C4</td>\n",
       "      <td>30:DE:4B:04:DA:80</td>\n",
       "      <td>1.697182e+12</td>\n",
       "      <td>5076.52</td>\n",
       "      <td>3.0</td>\n",
       "      <td>waltr_A</td>\n",
       "      <td>us-east-1</td>\n",
       "      <td>decrease</td>\n",
       "      <td>NaN</td>\n",
       "    </tr>\n",
       "    <tr>\n",
       "      <th>1</th>\n",
       "      <td>2023-10-13 12:55:18</td>\n",
       "      <td>880.82</td>\n",
       "      <td>4.19</td>\n",
       "      <td>99.0</td>\n",
       "      <td>9594c4</td>\n",
       "      <td>-27.0</td>\n",
       "      <td>5.0</td>\n",
       "      <td>10:97:BD:95:94:C4</td>\n",
       "      <td>30:DE:4B:04:DA:80</td>\n",
       "      <td>1.697182e+12</td>\n",
       "      <td>4920.59</td>\n",
       "      <td>3.0</td>\n",
       "      <td>waltr_A</td>\n",
       "      <td>us-east-1</td>\n",
       "      <td>decrease</td>\n",
       "      <td>-27.27</td>\n",
       "    </tr>\n",
       "    <tr>\n",
       "      <th>2</th>\n",
       "      <td>2023-10-13 12:57:39</td>\n",
       "      <td>849.51</td>\n",
       "      <td>4.19</td>\n",
       "      <td>99.0</td>\n",
       "      <td>9594c4</td>\n",
       "      <td>-26.0</td>\n",
       "      <td>5.0</td>\n",
       "      <td>10:97:BD:95:94:C4</td>\n",
       "      <td>30:DE:4B:04:DA:80</td>\n",
       "      <td>1.697182e+12</td>\n",
       "      <td>4741.55</td>\n",
       "      <td>3.0</td>\n",
       "      <td>waltr_A</td>\n",
       "      <td>us-east-1</td>\n",
       "      <td>decrease</td>\n",
       "      <td>-31.31</td>\n",
       "    </tr>\n",
       "    <tr>\n",
       "      <th>3</th>\n",
       "      <td>2023-10-13 13:00:00</td>\n",
       "      <td>817.19</td>\n",
       "      <td>4.19</td>\n",
       "      <td>99.0</td>\n",
       "      <td>9594c4</td>\n",
       "      <td>-25.0</td>\n",
       "      <td>5.0</td>\n",
       "      <td>10:97:BD:95:94:C4</td>\n",
       "      <td>30:DE:4B:04:DA:80</td>\n",
       "      <td>1.697182e+12</td>\n",
       "      <td>4556.74</td>\n",
       "      <td>3.0</td>\n",
       "      <td>waltr_A</td>\n",
       "      <td>us-east-1</td>\n",
       "      <td>decrease</td>\n",
       "      <td>-32.32</td>\n",
       "    </tr>\n",
       "    <tr>\n",
       "      <th>4</th>\n",
       "      <td>2023-10-13 13:02:20</td>\n",
       "      <td>790.93</td>\n",
       "      <td>4.19</td>\n",
       "      <td>99.0</td>\n",
       "      <td>9594c4</td>\n",
       "      <td>-33.0</td>\n",
       "      <td>5.0</td>\n",
       "      <td>10:97:BD:95:94:C4</td>\n",
       "      <td>30:DE:4B:04:DA:80</td>\n",
       "      <td>1.697182e+12</td>\n",
       "      <td>4406.58</td>\n",
       "      <td>3.0</td>\n",
       "      <td>waltr_A</td>\n",
       "      <td>us-east-1</td>\n",
       "      <td>decrease</td>\n",
       "      <td>-26.26</td>\n",
       "    </tr>\n",
       "  </tbody>\n",
       "</table>\n",
       "</div>"
      ],
      "text/plain": [
       "                 time      ds    vb    TD device_id  RSSI   RR  \\\n",
       "0 2023-10-13 12:52:58  908.09  4.19  99.0    9594c4 -32.0  1.0   \n",
       "1 2023-10-13 12:55:18  880.82  4.19  99.0    9594c4 -27.0  5.0   \n",
       "2 2023-10-13 12:57:39  849.51  4.19  99.0    9594c4 -26.0  5.0   \n",
       "3 2023-10-13 13:00:00  817.19  4.19  99.0    9594c4 -25.0  5.0   \n",
       "4 2023-10-13 13:02:20  790.93  4.19  99.0    9594c4 -33.0  5.0   \n",
       "\n",
       "           DeviceMAC          RouterMAC     timestamp       pw   FV  \\\n",
       "0  10:97:BD:95:94:C4  30:DE:4B:04:DA:80  1.697182e+12  5076.52  3.0   \n",
       "1  10:97:BD:95:94:C4  30:DE:4B:04:DA:80  1.697182e+12  4920.59  3.0   \n",
       "2  10:97:BD:95:94:C4  30:DE:4B:04:DA:80  1.697182e+12  4741.55  3.0   \n",
       "3  10:97:BD:95:94:C4  30:DE:4B:04:DA:80  1.697182e+12  4556.74  3.0   \n",
       "4  10:97:BD:95:94:C4  30:DE:4B:04:DA:80  1.697182e+12  4406.58  3.0   \n",
       "\n",
       "  device_type     region    change  movements  \n",
       "0     waltr_A  us-east-1  decrease        NaN  \n",
       "1     waltr_A  us-east-1  decrease     -27.27  \n",
       "2     waltr_A  us-east-1  decrease     -31.31  \n",
       "3     waltr_A  us-east-1  decrease     -32.32  \n",
       "4     waltr_A  us-east-1  decrease     -26.26  "
      ]
     },
     "execution_count": 188,
     "metadata": {},
     "output_type": "execute_result"
    }
   ],
   "source": [
    "df[\"movements\"] = df[\"ds\"].diff()\n",
    "df.head()"
   ]
  },
  {
   "cell_type": "code",
   "execution_count": 189,
   "metadata": {},
   "outputs": [],
   "source": [
    "# Plots\n",
    "# https://matplotlib.org/stable/"
   ]
  },
  {
   "cell_type": "code",
   "execution_count": 190,
   "metadata": {},
   "outputs": [
    {
     "data": {
      "text/plain": [
       "[<matplotlib.lines.Line2D at 0x172691a90>]"
      ]
     },
     "execution_count": 190,
     "metadata": {},
     "output_type": "execute_result"
    },
    {
     "data": {
      "image/png": "[encoded data removed]",
      "text/plain": [
       "<Figure size 200x200 with 1 Axes>"
      ]
     },
     "metadata": {},
     "output_type": "display_data"
    }
   ],
   "source": [
    "plt.plot(df[\"ds\"])"
   ]
  },
  {
   "cell_type": "code",
   "execution_count": 191,
   "metadata": {},
   "outputs": [
    {
     "data": {
      "text/plain": [
       "<matplotlib.collections.PathCollection at 0x2e286b940>"
      ]
     },
     "execution_count": 191,
     "metadata": {},
     "output_type": "execute_result"
    },
    {
     "data": {
      "image/png": "[encoded data removed]",
      "text/plain": [
       "<Figure size 200x200 with 1 Axes>"
      ]
     },
     "metadata": {},
     "output_type": "display_data"
    }
   ],
   "source": [
    "plt.scatter(df[\"ds\"], df[\"RSSI\"])"
   ]
  },
  {
   "cell_type": "code",
   "execution_count": 192,
   "metadata": {
    "colab": {
     "base_uri": "https://localhost:8080/",
     "height": 447
    },
    "id": "i4fxLYoozal-",
    "outputId": "e2aad41d-b349-4cbd-e098-b5655c527709"
   },
   "outputs": [
    {
     "data": {
      "text/plain": [
       "[<matplotlib.lines.Line2D at 0x2e2a2cf40>]"
      ]
     },
     "execution_count": 192,
     "metadata": {},
     "output_type": "execute_result"
    },
    {
     "data": {
      "image/png": "[encoded data removed]",
      "text/plain": [
       "<Figure size 200x200 with 1 Axes>"
      ]
     },
     "metadata": {},
     "output_type": "display_data"
    }
   ],
   "source": [
    "plt.plot(df[\"movements\"])"
   ]
  },
  {
   "cell_type": "code",
   "execution_count": 193,
   "metadata": {},
   "outputs": [
    {
     "data": {
      "text/plain": [
       "<BarContainer object of 10699 artists>"
      ]
     },
     "execution_count": 193,
     "metadata": {},
     "output_type": "execute_result"
    },
    {
     "data": {
      "image/png": "[encoded data removed]",
      "text/plain": [
       "<Figure size 200x200 with 1 Axes>"
      ]
     },
     "metadata": {},
     "output_type": "display_data"
    }
   ],
   "source": [
    "plt.bar(df[\"RR\"], height=1)"
   ]
  },
  {
   "cell_type": "code",
   "execution_count": 194,
   "metadata": {},
   "outputs": [
    {
     "data": {
      "text/plain": [
       "[<matplotlib.collections.PolyCollection at 0x2e2a54dc0>,\n",
       " <matplotlib.collections.PolyCollection at 0x2e871a640>]"
      ]
     },
     "execution_count": 194,
     "metadata": {},
     "output_type": "execute_result"
    },
    {
     "data": {
      "image/png": "[encoded data removed]",
      "text/plain": [
       "<Figure size 200x200 with 1 Axes>"
      ]
     },
     "metadata": {},
     "output_type": "display_data"
    }
   ],
   "source": [
    "x = df[\"time\"]\n",
    "ay = df[\"ds\"]\n",
    "by = df[\"pw\"]\n",
    "y = np.vstack([ay, by])\n",
    "\n",
    "# plot\n",
    "fig, ax = plt.subplots()\n",
    "plt.xticks(rotation=\"vertical\")\n",
    "ax.stackplot(x, y)"
   ]
  },
  {
   "cell_type": "code",
   "execution_count": 195,
   "metadata": {},
   "outputs": [
    {
     "data": {
      "image/png": "[encoded data removed]",
      "text/plain": [
       "<Figure size 200x200 with 1 Axes>"
      ]
     },
     "metadata": {},
     "output_type": "display_data"
    }
   ],
   "source": [
    "y = df[\"ds\"].iloc[:10]\n",
    "\n",
    "fig, ax = plt.subplots()\n",
    "\n",
    "ax.stairs(y, linewidth=2.5)\n",
    "\n",
    "plt.show()"
   ]
  },
  {
   "cell_type": "code",
   "execution_count": 196,
   "metadata": {},
   "outputs": [
    {
     "data": {
      "text/plain": [
       "(array([1584., 2103., 2090., 2262., 1992.,  512.,   53.,   38.,   26.,\n",
       "          39.]),\n",
       " array([ 653.57 ,  704.777,  755.984,  807.191,  858.398,  909.605,\n",
       "         960.812, 1012.019, 1063.226, 1114.433, 1165.64 ]),\n",
       " <BarContainer object of 10 artists>)"
      ]
     },
     "execution_count": 196,
     "metadata": {},
     "output_type": "execute_result"
    },
    {
     "data": {
      "image/png": "[encoded data removed]",
      "text/plain": [
       "<Figure size 200x200 with 1 Axes>"
      ]
     },
     "metadata": {},
     "output_type": "display_data"
    }
   ],
   "source": [
    "plt.hist(df[\"ds\"])"
   ]
  },
  {
   "cell_type": "code",
   "execution_count": 197,
   "metadata": {},
   "outputs": [],
   "source": [
    "# Bokeh"
   ]
  },
  {
   "cell_type": "code",
   "execution_count": 198,
   "metadata": {},
   "outputs": [],
   "source": [
    "from bokeh.plotting import figure, show"
   ]
  },
  {
   "cell_type": "code",
   "execution_count": 200,
   "metadata": {},
   "outputs": [],
   "source": [
    "fig = figure(title=\"Distance\", x_axis_label='Time', y_axis_label='Distance')\n",
    "fig.line(df[\"time\"], df[\"ds\"], legend_label=\"Temp.\", line_width=2)\n",
    "fig.xaxis.major_label_orientation = \"vertical\"\n",
    "\n",
    "show(fig)"
   ]
  },
  {
   "cell_type": "code",
   "execution_count": 211,
   "metadata": {},
   "outputs": [
    {
     "name": "stderr",
     "output_type": "stream",
     "text": [
      "BokehUserWarning: ColumnDataSource's columns must be of the same length. Current lengths: ('x', 100), ('y', 10699)\n",
      "BokehUserWarning: ColumnDataSource's columns must be of the same length. Current lengths: ('x', 100), ('y', 10699)\n"
     ]
    }
   ],
   "source": [
    "fig = figure(title=\"Distance\", x_axis_label='Time', y_axis_label='Distance')\n",
    "fig.line(df[\"time\"].iloc[:100], df[\"ds\"], legend_label=\"Temp.\", line_width=2)\n",
    "fig.line(df[\"time\"].iloc[:100], df[\"pw\"], legend_label=\"Temp.\", line_width=2)\n",
    "fig.xaxis.major_label_orientation = \"vertical\"\n",
    "\n",
    "show(fig)"
   ]
  },
  {
   "cell_type": "code",
   "execution_count": null,
   "metadata": {},
   "outputs": [],
   "source": []
  }
 ],
 "metadata": {
  "colab": {
   "provenance": []
  },
  "kernelspec": {
   "display_name": "Python 3 (ipykernel)",
   "language": "python",
   "name": "python3"
  },
  "language_info": {
   "codemirror_mode": {
    "name": "ipython",
    "version": 3
   },
   "file_extension": ".py",
   "mimetype": "text/x-python",
   "name": "python",
   "nbconvert_exporter": "python",
   "pygments_lexer": "ipython3",
   "version": "3.9.6"
  }
 },
 "nbformat": 4,
 "nbformat_minor": 4
}
